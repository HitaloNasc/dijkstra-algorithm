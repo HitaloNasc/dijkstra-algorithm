{
 "cells": [
  {
   "attachments": {},
   "cell_type": "markdown",
   "metadata": {},
   "source": [
    "# Projeto: Busca do menor caminho entre dois nós usando algorítimo de Dijkstra"
   ]
  },
  {
   "attachments": {},
   "cell_type": "markdown",
   "metadata": {},
   "source": [
    "## Lendo a base de dados"
   ]
  },
  {
   "cell_type": "code",
   "execution_count": 1,
   "metadata": {},
   "outputs": [],
   "source": [
    "import csv\n",
    "from typing import List\n",
    "\n",
    "\n",
    "def read_data(path: str) -> List[List[str]]:\n",
    "    \"\"\"\n",
    "    Lê a base de dados de um arquivo CSV e retorna o conteúdo no formato de lista.\n",
    "\n",
    "    Args:\n",
    "        path: Uma string contendo o caminho relativo do arquivo csv.\n",
    "\n",
    "    Returns:\n",
    "        Uma lista de listas com as linhas do arquivo no formato string.\n",
    "    \"\"\"\n",
    "    with open(path, newline='') as csvfile:\n",
    "        reader = csv.reader(csvfile)\n",
    "        next(reader)\n",
    "        return [row for row in reader]\n",
    "\n",
    "\n",
    "data_base = read_data('data_base/lastfm_asia_edges.csv')\n"
   ]
  },
  {
   "attachments": {},
   "cell_type": "markdown",
   "metadata": {},
   "source": [
    "## Prepearando o grafo"
   ]
  },
  {
   "cell_type": "code",
   "execution_count": 2,
   "metadata": {},
   "outputs": [],
   "source": [
    "def build_graph(edges):\n",
    "    \"\"\"\n",
    "    Constrói e retorna um grafo a partir de uma lista de arestas.\n",
    "\n",
    "    Args:\n",
    "        edges (list): Uma lista de com 2 itens representando as arestas do grafo.\n",
    "                      \n",
    "\n",
    "    Returns:\n",
    "        dict: Um dicionário de dicionários representando o grafo. \n",
    "    \n",
    "    \"\"\"\n",
    "    graph = {}\n",
    "    for edge in edges:\n",
    "        source = edge[0]\n",
    "        dest = edge[1]\n",
    "        weight = edge[2] if len(edge) == 3 else 1\n",
    "        \n",
    "        if source not in graph:\n",
    "            graph[source] = {}\n",
    "        if dest not in graph:\n",
    "            graph[dest] = {}\n",
    "        \n",
    "        graph[source][dest] = weight\n",
    "        graph[dest][source] = weight\n",
    "    \n",
    "    return graph\n",
    "\n",
    "graph = build_graph(data_base)\n"
   ]
  },
  {
   "attachments": {},
   "cell_type": "markdown",
   "metadata": {},
   "source": [
    "## Buscando o menor caminho entre dois nós"
   ]
  },
  {
   "attachments": {},
   "cell_type": "markdown",
   "metadata": {},
   "source": [
    "### Algorítmo de Dijkstra"
   ]
  },
  {
   "cell_type": "code",
   "execution_count": 3,
   "metadata": {},
   "outputs": [],
   "source": [
    "def dijkstra(graph, start, end):\n",
    "    \"\"\"\n",
    "    Implementa o algoritmo de Dijkstra para encontrar o caminho mais curto entre dois nós de um grafo ponderado.\n",
    "\n",
    "    Args:\n",
    "        graph -- dicionário de dicionários representando o grafo ponderado, onde cada chave é um vértice e cada valor é outro dicionário contendo os vizinhos e os pesos das arestas.\n",
    "        start -- vértice de partida para a busca do caminho mínimo.\n",
    "        end -- vértice de chegada para a busca do caminho mínimo.\n",
    "\n",
    "    Returns:\n",
    "        Um dicionário contendo o caminho mínimo entre os vértices de partida e chegada. Se não houver um caminho válido, o dicionário estará vazio.\n",
    "    \"\"\"\n",
    "    \n",
    "    distances = {vertex: float('inf') for vertex in graph}\n",
    "    distances[start] = 0\n",
    "    visited = set()\n",
    "    path = {}\n",
    "\n",
    "    while len(visited) < len(graph):\n",
    "        current_vertex = None\n",
    "        current_distance = float('inf')\n",
    "\n",
    "        for vertex, distance in distances.items():\n",
    "            if vertex not in visited and distance < current_distance:\n",
    "                current_vertex = vertex\n",
    "                current_distance = distance\n",
    "\n",
    "        visited.add(current_vertex)\n",
    "\n",
    "        for neighbor, weight in graph[current_vertex].items():\n",
    "            distance = distances[current_vertex] + weight\n",
    "\n",
    "            if distance < distances[neighbor]:\n",
    "                distances[neighbor] = distance\n",
    "                path[neighbor] = current_vertex\n",
    "\n",
    "    path_list = []\n",
    "    vertex = end\n",
    "    while vertex != start:\n",
    "        path_list.append(vertex)\n",
    "        vertex = path[vertex]\n",
    "    path_list.append(start)\n",
    "    path_list.reverse()\n",
    "\n",
    "    return distances[end], path_list\n",
    "\n",
    "\n",
    "def print_path_route(start, target, distance, route):\n",
    "    print(f\"Distância mínima de {start} até {target}: {distance}\")\n",
    "\n",
    "    print(\"Seguindo o caminho:\")\n",
    "    for index in range(len(route)):\n",
    "        if route[index] != target:\n",
    "            print(f'-> De {route[index]} para {route[index + 1]}')\n"
   ]
  },
  {
   "attachments": {},
   "cell_type": "markdown",
   "metadata": {},
   "source": [
    "#"
   ]
  },
  {
   "attachments": {},
   "cell_type": "markdown",
   "metadata": {},
   "source": [
    "### Buscando o menor caminho entre dois nós"
   ]
  },
  {
   "cell_type": "code",
   "execution_count": 4,
   "metadata": {},
   "outputs": [
    {
     "name": "stdout",
     "output_type": "stream",
     "text": [
      "Distância mínima de 0 até 1: 6\n",
      "Seguindo o caminho:\n",
      "-> De 0 para 747\n",
      "-> De 747 para 2020\n",
      "-> De 2020 para 6463\n",
      "-> De 6463 para 1698\n",
      "-> De 1698 para 4257\n",
      "-> De 4257 para 1\n"
     ]
    }
   ],
   "source": [
    "node_a = '0'\n",
    "node_b = '1'\n",
    "\n",
    "distance, route = dijkstra(graph, node_a, node_b)\n",
    "\n",
    "print_path_route(node_a, node_b, distance, route)\n"
   ]
  }
 ],
 "metadata": {
  "kernelspec": {
   "display_name": "Python 3",
   "language": "python",
   "name": "python3"
  },
  "language_info": {
   "codemirror_mode": {
    "name": "ipython",
    "version": 3
   },
   "file_extension": ".py",
   "mimetype": "text/x-python",
   "name": "python",
   "nbconvert_exporter": "python",
   "pygments_lexer": "ipython3",
   "version": "3.10.6"
  },
  "orig_nbformat": 4
 },
 "nbformat": 4,
 "nbformat_minor": 2
}
